{
 "cells": [
  {
   "cell_type": "code",
   "execution_count": 1,
   "metadata": {},
   "outputs": [
    {
     "data": {
      "text/html": [
       "<div>\n",
       "<style scoped>\n",
       "    .dataframe tbody tr th:only-of-type {\n",
       "        vertical-align: middle;\n",
       "    }\n",
       "\n",
       "    .dataframe tbody tr th {\n",
       "        vertical-align: top;\n",
       "    }\n",
       "\n",
       "    .dataframe thead th {\n",
       "        text-align: right;\n",
       "    }\n",
       "</style>\n",
       "<table border=\"1\" class=\"dataframe\">\n",
       "  <thead>\n",
       "    <tr style=\"text-align: right;\">\n",
       "      <th></th>\n",
       "      <th>Sequence id</th>\n",
       "      <th>Meter</th>\n",
       "      <th>Date in meter</th>\n",
       "      <th>Connection Status</th>\n",
       "    </tr>\n",
       "  </thead>\n",
       "  <tbody>\n",
       "    <tr>\n",
       "      <th>0</th>\n",
       "      <td>967376587</td>\n",
       "      <td>00100467</td>\n",
       "      <td>10-02-2016 05:47</td>\n",
       "      <td>Connected</td>\n",
       "    </tr>\n",
       "    <tr>\n",
       "      <th>1</th>\n",
       "      <td>967419043</td>\n",
       "      <td>00100467</td>\n",
       "      <td>10-02-2016 06:05</td>\n",
       "      <td>Disconnected</td>\n",
       "    </tr>\n",
       "    <tr>\n",
       "      <th>2</th>\n",
       "      <td>967427759</td>\n",
       "      <td>00100467</td>\n",
       "      <td>10-02-2016 06:08</td>\n",
       "      <td>Connected</td>\n",
       "    </tr>\n",
       "    <tr>\n",
       "      <th>3</th>\n",
       "      <td>967873007</td>\n",
       "      <td>00100467</td>\n",
       "      <td>10-02-2016 08:41</td>\n",
       "      <td>Connected</td>\n",
       "    </tr>\n",
       "    <tr>\n",
       "      <th>4</th>\n",
       "      <td>967873003</td>\n",
       "      <td>00100467</td>\n",
       "      <td>10-02-2016 08:41</td>\n",
       "      <td>Disconnected</td>\n",
       "    </tr>\n",
       "  </tbody>\n",
       "</table>\n",
       "</div>"
      ],
      "text/plain": [
       "   Sequence id     Meter     Date in meter Connection Status\n",
       "0    967376587  00100467  10-02-2016 05:47         Connected\n",
       "1    967419043  00100467  10-02-2016 06:05      Disconnected\n",
       "2    967427759  00100467  10-02-2016 06:08         Connected\n",
       "3    967873007  00100467  10-02-2016 08:41         Connected\n",
       "4    967873003  00100467  10-02-2016 08:41      Disconnected"
      ]
     },
     "execution_count": 1,
     "metadata": {},
     "output_type": "execute_result"
    }
   ],
   "source": [
    "import pandas as pd\n",
    "\n",
    "df = pd.read_csv(\"ConnectionList(1-50Meters).csv\")\n",
    "df.head()"
   ]
  },
  {
   "cell_type": "code",
   "execution_count": 2,
   "metadata": {},
   "outputs": [
    {
     "data": {
      "text/html": [
       "<div>\n",
       "<style scoped>\n",
       "    .dataframe tbody tr th:only-of-type {\n",
       "        vertical-align: middle;\n",
       "    }\n",
       "\n",
       "    .dataframe tbody tr th {\n",
       "        vertical-align: top;\n",
       "    }\n",
       "\n",
       "    .dataframe thead th {\n",
       "        text-align: right;\n",
       "    }\n",
       "</style>\n",
       "<table border=\"1\" class=\"dataframe\">\n",
       "  <thead>\n",
       "    <tr style=\"text-align: right;\">\n",
       "      <th></th>\n",
       "      <th>sequence_id</th>\n",
       "      <th>meter</th>\n",
       "      <th>meterdate</th>\n",
       "      <th>connection_status</th>\n",
       "    </tr>\n",
       "  </thead>\n",
       "  <tbody>\n",
       "    <tr>\n",
       "      <th>66437</th>\n",
       "      <td>1077175151</td>\n",
       "      <td>00105F86</td>\n",
       "      <td>09-03-2016 09:07</td>\n",
       "      <td>Connected</td>\n",
       "    </tr>\n",
       "    <tr>\n",
       "      <th>66438</th>\n",
       "      <td>1077193715</td>\n",
       "      <td>00105F86</td>\n",
       "      <td>09-03-2016 09:12</td>\n",
       "      <td>Disconnected</td>\n",
       "    </tr>\n",
       "    <tr>\n",
       "      <th>66439</th>\n",
       "      <td>1077195219</td>\n",
       "      <td>00105F86</td>\n",
       "      <td>09-03-2016 09:13</td>\n",
       "      <td>Connected</td>\n",
       "    </tr>\n",
       "    <tr>\n",
       "      <th>66440</th>\n",
       "      <td>1077213907</td>\n",
       "      <td>00105F86</td>\n",
       "      <td>09-03-2016 09:18</td>\n",
       "      <td>Disconnected</td>\n",
       "    </tr>\n",
       "    <tr>\n",
       "      <th>66441</th>\n",
       "      <td>1077215403</td>\n",
       "      <td>00105F86</td>\n",
       "      <td>09-03-2016 09:18</td>\n",
       "      <td>Connected</td>\n",
       "    </tr>\n",
       "  </tbody>\n",
       "</table>\n",
       "</div>"
      ],
      "text/plain": [
       "       sequence_id     meter         meterdate connection_status\n",
       "66437   1077175151  00105F86  09-03-2016 09:07         Connected\n",
       "66438   1077193715  00105F86  09-03-2016 09:12      Disconnected\n",
       "66439   1077195219  00105F86  09-03-2016 09:13         Connected\n",
       "66440   1077213907  00105F86  09-03-2016 09:18      Disconnected\n",
       "66441   1077215403  00105F86  09-03-2016 09:18         Connected"
      ]
     },
     "execution_count": 2,
     "metadata": {},
     "output_type": "execute_result"
    }
   ],
   "source": [
    "df = df.rename(columns={\n",
    "    \"Sequence id\": \"sequence_id\",\n",
    "    \"Meter\": \"meter\",\n",
    "    \"Date in meter\": \"meterdate\",\n",
    "    \"Connection Status\": \"connection_status\"})\n",
    "df.tail()"
   ]
  },
  {
   "cell_type": "code",
   "execution_count": 3,
   "metadata": {},
   "outputs": [
    {
     "data": {
      "text/plain": [
       "array(['00100467', '001005CC', '0010074B', '00100923', '0010098B',\n",
       "       '00100C37', '0010100E', '001013CC', '0010147B', '0010202C',\n",
       "       '00102087', '00102105', '00102311', '001029C0', '00102A64',\n",
       "       '00102AEC', '00102B8F', '00102C66', '00102E98', '00102ED4',\n",
       "       '00103031', '00103275', '0010340E', '001034FB', '00103508',\n",
       "       '00103996', '00103E06', '00104700', '00104795', '0010492D',\n",
       "       '00104938', '00104EC8', '00104FB7', '001051F5', '0010528A',\n",
       "       '00105423', '00105434', '00105445', '0010547A', '0010574C',\n",
       "       '001059E8', '00105DF4', '00105E12', '00105E4F', '00105E61',\n",
       "       '00105E7E', '00105E89', '00105EC1', '00105F4E', '00105F86'],\n",
       "      dtype=object)"
      ]
     },
     "execution_count": 3,
     "metadata": {},
     "output_type": "execute_result"
    }
   ],
   "source": [
    "meters = pd.unique(df[\"meter\"])\n",
    "meters"
   ]
  },
  {
   "cell_type": "code",
   "execution_count": 4,
   "metadata": {},
   "outputs": [],
   "source": [
    "import numpy as np\n",
    "\n",
    "finalresult = {}\n",
    "for meter in meters:\n",
    "    m = df.loc[df[\"meter\"] == meter]\n",
    "    finalresult[meter] = np.array(m.loc[m[\"connection_status\"] == \"Connected\"][\"meterdate\"]).tolist()"
   ]
  },
  {
   "cell_type": "code",
   "execution_count": 7,
   "metadata": {},
   "outputs": [],
   "source": [
    "df.index = df.sequence_id\n",
    "df = df.drop('sequence_id', 1)"
   ]
  },
  {
   "cell_type": "code",
   "execution_count": 60,
   "metadata": {},
   "outputs": [
    {
     "data": {
      "text/html": [
       "<div>\n",
       "<style scoped>\n",
       "    .dataframe tbody tr th:only-of-type {\n",
       "        vertical-align: middle;\n",
       "    }\n",
       "\n",
       "    .dataframe tbody tr th {\n",
       "        vertical-align: top;\n",
       "    }\n",
       "\n",
       "    .dataframe thead th {\n",
       "        text-align: right;\n",
       "    }\n",
       "</style>\n",
       "<table border=\"1\" class=\"dataframe\">\n",
       "  <thead>\n",
       "    <tr style=\"text-align: right;\">\n",
       "      <th></th>\n",
       "      <th>meter</th>\n",
       "      <th>meterdate</th>\n",
       "      <th>connection_status</th>\n",
       "    </tr>\n",
       "    <tr>\n",
       "      <th>sequence_id</th>\n",
       "      <th></th>\n",
       "      <th></th>\n",
       "      <th></th>\n",
       "    </tr>\n",
       "  </thead>\n",
       "  <tbody>\n",
       "    <tr>\n",
       "      <th>967376587</th>\n",
       "      <td>00100467</td>\n",
       "      <td>10-02-2016 05:47</td>\n",
       "      <td>Connected</td>\n",
       "    </tr>\n",
       "    <tr>\n",
       "      <th>967419043</th>\n",
       "      <td>00100467</td>\n",
       "      <td>10-02-2016 06:05</td>\n",
       "      <td>Disconnected</td>\n",
       "    </tr>\n",
       "    <tr>\n",
       "      <th>967427759</th>\n",
       "      <td>00100467</td>\n",
       "      <td>10-02-2016 06:08</td>\n",
       "      <td>Connected</td>\n",
       "    </tr>\n",
       "    <tr>\n",
       "      <th>967873007</th>\n",
       "      <td>00100467</td>\n",
       "      <td>10-02-2016 08:41</td>\n",
       "      <td>Connected</td>\n",
       "    </tr>\n",
       "    <tr>\n",
       "      <th>967873003</th>\n",
       "      <td>00100467</td>\n",
       "      <td>10-02-2016 08:41</td>\n",
       "      <td>Disconnected</td>\n",
       "    </tr>\n",
       "  </tbody>\n",
       "</table>\n",
       "</div>"
      ],
      "text/plain": [
       "                meter         meterdate connection_status\n",
       "sequence_id                                              \n",
       "967376587    00100467  10-02-2016 05:47         Connected\n",
       "967419043    00100467  10-02-2016 06:05      Disconnected\n",
       "967427759    00100467  10-02-2016 06:08         Connected\n",
       "967873007    00100467  10-02-2016 08:41         Connected\n",
       "967873003    00100467  10-02-2016 08:41      Disconnected"
      ]
     },
     "execution_count": 60,
     "metadata": {},
     "output_type": "execute_result"
    }
   ],
   "source": [
    "df.head()"
   ]
  },
  {
   "cell_type": "code",
   "execution_count": 62,
   "metadata": {},
   "outputs": [],
   "source": [
    "# ------------------------------------------------------------------------------------------"
   ]
  },
  {
   "cell_type": "code",
   "execution_count": 36,
   "metadata": {},
   "outputs": [],
   "source": [
    "from datetime import datetime\n",
    "result = {}\n",
    "for meter in meters:\n",
    "    for index,row in df.loc[df['meter'] == meter].iterrows():\n",
    "        meterdatetime = datetime.strptime(row.meterdate, '%d-%m-%Y %H:%M')\n",
    "        if row.connection_status == 'Connected':\n",
    "            if result.get(meter, False):\n",
    "                if not len(result[meter][-1]) == 1:\n",
    "                    result[meter].append([meterdatetime])\n",
    "            else:\n",
    "                result[meter] = [[meterdatetime]]\n",
    "        else:\n",
    "            if result.get(meter, False):\n",
    "                if len(result[meter][-1]) == 1:\n",
    "                    result[meter][-1].append(meterdatetime)\n",
    "            else:\n",
    "                result[meter] = [[0, meterdatetime]]"
   ]
  },
  {
   "cell_type": "code",
   "execution_count": 38,
   "metadata": {},
   "outputs": [
    {
     "data": {
      "text/plain": [
       "[[datetime.datetime(2016, 2, 10, 5, 47), datetime.datetime(2016, 2, 10, 6, 5)],\n",
       " [datetime.datetime(2016, 2, 10, 6, 8), datetime.datetime(2016, 2, 10, 8, 41)],\n",
       " [datetime.datetime(2016, 2, 10, 10, 11),\n",
       "  datetime.datetime(2016, 2, 10, 10, 11)],\n",
       " [datetime.datetime(2016, 2, 11, 3, 57), datetime.datetime(2016, 2, 11, 4, 1)],\n",
       " [datetime.datetime(2016, 2, 11, 7, 30),\n",
       "  datetime.datetime(2016, 2, 11, 7, 30)],\n",
       " [datetime.datetime(2016, 2, 11, 14, 43),\n",
       "  datetime.datetime(2016, 2, 11, 18, 26)],\n",
       " [datetime.datetime(2016, 2, 12, 12, 16),\n",
       "  datetime.datetime(2016, 2, 12, 13, 27)],\n",
       " [datetime.datetime(2016, 2, 12, 13, 32),\n",
       "  datetime.datetime(2016, 2, 12, 13, 34)],\n",
       " [datetime.datetime(2016, 2, 14, 16, 47),\n",
       "  datetime.datetime(2016, 2, 14, 16, 58)],\n",
       " [datetime.datetime(2016, 2, 16, 7, 33),\n",
       "  datetime.datetime(2016, 2, 16, 10, 36)],\n",
       " [datetime.datetime(2016, 2, 16, 13, 33),\n",
       "  datetime.datetime(2016, 2, 16, 13, 56)],\n",
       " [datetime.datetime(2016, 2, 16, 14, 17),\n",
       "  datetime.datetime(2016, 2, 16, 20, 6)],\n",
       " [datetime.datetime(2016, 2, 16, 20, 6),\n",
       "  datetime.datetime(2016, 2, 16, 22, 25)],\n",
       " [datetime.datetime(2016, 2, 16, 22, 31),\n",
       "  datetime.datetime(2016, 2, 16, 22, 53)],\n",
       " [datetime.datetime(2016, 2, 16, 22, 53),\n",
       "  datetime.datetime(2016, 2, 17, 2, 16)],\n",
       " [datetime.datetime(2016, 2, 18, 17, 31),\n",
       "  datetime.datetime(2016, 2, 18, 17, 42)],\n",
       " [datetime.datetime(2016, 2, 19, 15, 24),\n",
       "  datetime.datetime(2016, 2, 19, 16, 16)],\n",
       " [datetime.datetime(2016, 2, 20, 6, 15),\n",
       "  datetime.datetime(2016, 2, 20, 15, 6)],\n",
       " [datetime.datetime(2016, 2, 23, 8, 24),\n",
       "  datetime.datetime(2016, 2, 23, 10, 36)],\n",
       " [datetime.datetime(2016, 3, 7, 10, 57), datetime.datetime(2016, 3, 7, 11, 0)],\n",
       " [datetime.datetime(2016, 3, 8, 6, 27), datetime.datetime(2016, 3, 8, 6, 30)],\n",
       " [datetime.datetime(2016, 3, 8, 6, 31), datetime.datetime(2016, 3, 8, 6, 43)],\n",
       " [datetime.datetime(2016, 3, 8, 14, 35),\n",
       "  datetime.datetime(2016, 3, 8, 22, 30)],\n",
       " [datetime.datetime(2016, 3, 8, 22, 31)]]"
      ]
     },
     "execution_count": 38,
     "metadata": {},
     "output_type": "execute_result"
    }
   ],
   "source": [
    "result['00100467']"
   ]
  },
  {
   "cell_type": "code",
   "execution_count": 63,
   "metadata": {},
   "outputs": [
    {
     "data": {
      "text/plain": [
       "{datetime.datetime(2016, 2, 10, 6, 5): datetime.timedelta(0, 180),\n",
       " datetime.datetime(2016, 2, 10, 8, 41): datetime.timedelta(0, 5400),\n",
       " datetime.datetime(2016, 2, 10, 10, 11): datetime.timedelta(0, 63960),\n",
       " datetime.datetime(2016, 2, 11, 4, 1): datetime.timedelta(0, 12540),\n",
       " datetime.datetime(2016, 2, 11, 7, 30): datetime.timedelta(0, 25980),\n",
       " datetime.datetime(2016, 2, 11, 18, 26): datetime.timedelta(0, 64200),\n",
       " datetime.datetime(2016, 2, 12, 13, 27): datetime.timedelta(0, 300),\n",
       " datetime.datetime(2016, 2, 12, 13, 34): datetime.timedelta(2, 11580),\n",
       " datetime.datetime(2016, 2, 14, 16, 58): datetime.timedelta(1, 52500),\n",
       " datetime.datetime(2016, 2, 16, 10, 36): datetime.timedelta(0, 10620),\n",
       " datetime.datetime(2016, 2, 16, 13, 56): datetime.timedelta(0, 1260),\n",
       " datetime.datetime(2016, 2, 16, 20, 6): datetime.timedelta(0),\n",
       " datetime.datetime(2016, 2, 16, 22, 25): datetime.timedelta(0, 360),\n",
       " datetime.datetime(2016, 2, 16, 22, 53): datetime.timedelta(0),\n",
       " datetime.datetime(2016, 2, 17, 2, 16): datetime.timedelta(1, 54900),\n",
       " datetime.datetime(2016, 2, 18, 17, 42): datetime.timedelta(0, 78120),\n",
       " datetime.datetime(2016, 2, 19, 16, 16): datetime.timedelta(0, 50340),\n",
       " datetime.datetime(2016, 2, 20, 15, 6): datetime.timedelta(2, 62280),\n",
       " datetime.datetime(2016, 2, 23, 10, 36): datetime.timedelta(13, 1260),\n",
       " datetime.datetime(2016, 3, 7, 11, 0): datetime.timedelta(0, 70020),\n",
       " datetime.datetime(2016, 3, 8, 6, 30): datetime.timedelta(0, 60),\n",
       " datetime.datetime(2016, 3, 8, 6, 43): datetime.timedelta(0, 28320),\n",
       " datetime.datetime(2016, 3, 8, 22, 30): datetime.timedelta(0, 60)}"
      ]
     },
     "execution_count": 63,
     "metadata": {},
     "output_type": "execute_result"
    }
   ],
   "source": [
    "# OFF time\n",
    "OFF = {}\n",
    "for i, j in zip(range(len(result['00100467'])), range(1, len(result['00100467']))):\n",
    "    OFF[result['00100467'][i][1]] = (result['00100467'][j][0] - result['00100467'][i][1])\n",
    "OFF"
   ]
  },
  {
   "cell_type": "code",
   "execution_count": 64,
   "metadata": {},
   "outputs": [
    {
     "data": {
      "text/plain": [
       "{datetime.datetime(2016, 2, 10, 5, 47): datetime.timedelta(0, 1080),\n",
       " datetime.datetime(2016, 2, 10, 6, 8): datetime.timedelta(0, 9180),\n",
       " datetime.datetime(2016, 2, 10, 10, 11): datetime.timedelta(0),\n",
       " datetime.datetime(2016, 2, 11, 3, 57): datetime.timedelta(0, 240),\n",
       " datetime.datetime(2016, 2, 11, 7, 30): datetime.timedelta(0),\n",
       " datetime.datetime(2016, 2, 11, 14, 43): datetime.timedelta(0, 13380),\n",
       " datetime.datetime(2016, 2, 12, 12, 16): datetime.timedelta(0, 4260),\n",
       " datetime.datetime(2016, 2, 12, 13, 32): datetime.timedelta(0, 120),\n",
       " datetime.datetime(2016, 2, 14, 16, 47): datetime.timedelta(0, 660),\n",
       " datetime.datetime(2016, 2, 16, 7, 33): datetime.timedelta(0, 10980),\n",
       " datetime.datetime(2016, 2, 16, 13, 33): datetime.timedelta(0, 1380),\n",
       " datetime.datetime(2016, 2, 16, 14, 17): datetime.timedelta(0, 20940),\n",
       " datetime.datetime(2016, 2, 16, 20, 6): datetime.timedelta(0, 8340),\n",
       " datetime.datetime(2016, 2, 16, 22, 31): datetime.timedelta(0, 1320),\n",
       " datetime.datetime(2016, 2, 16, 22, 53): datetime.timedelta(0, 12180),\n",
       " datetime.datetime(2016, 2, 18, 17, 31): datetime.timedelta(0, 660),\n",
       " datetime.datetime(2016, 2, 19, 15, 24): datetime.timedelta(0, 3120),\n",
       " datetime.datetime(2016, 2, 20, 6, 15): datetime.timedelta(0, 31860),\n",
       " datetime.datetime(2016, 2, 23, 8, 24): datetime.timedelta(0, 7920),\n",
       " datetime.datetime(2016, 3, 7, 10, 57): datetime.timedelta(0, 180),\n",
       " datetime.datetime(2016, 3, 8, 6, 27): datetime.timedelta(0, 180),\n",
       " datetime.datetime(2016, 3, 8, 6, 31): datetime.timedelta(0, 720),\n",
       " datetime.datetime(2016, 3, 8, 14, 35): datetime.timedelta(0, 28500)}"
      ]
     },
     "execution_count": 64,
     "metadata": {},
     "output_type": "execute_result"
    }
   ],
   "source": [
    "# ON time\n",
    "ON = {}\n",
    "for i in result['00100467']:\n",
    "    if len(i) == 2:\n",
    "        ON[i[0]] = (i[1] - i[0])\n",
    "ON"
   ]
  }
 ],
 "metadata": {
  "kernelspec": {
   "display_name": "Python 3",
   "language": "python",
   "name": "python3"
  },
  "language_info": {
   "codemirror_mode": {
    "name": "ipython",
    "version": 3
   },
   "file_extension": ".py",
   "mimetype": "text/x-python",
   "name": "python",
   "nbconvert_exporter": "python",
   "pygments_lexer": "ipython3",
   "version": "3.6.5"
  }
 },
 "nbformat": 4,
 "nbformat_minor": 2
}
