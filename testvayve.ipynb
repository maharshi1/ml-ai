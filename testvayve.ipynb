{
 "cells": [
  {
   "cell_type": "code",
   "execution_count": 1,
   "metadata": {},
   "outputs": [
    {
     "data": {
      "text/html": [
       "<div>\n",
       "<style scoped>\n",
       "    .dataframe tbody tr th:only-of-type {\n",
       "        vertical-align: middle;\n",
       "    }\n",
       "\n",
       "    .dataframe tbody tr th {\n",
       "        vertical-align: top;\n",
       "    }\n",
       "\n",
       "    .dataframe thead th {\n",
       "        text-align: right;\n",
       "    }\n",
       "</style>\n",
       "<table border=\"1\" class=\"dataframe\">\n",
       "  <thead>\n",
       "    <tr style=\"text-align: right;\">\n",
       "      <th></th>\n",
       "      <th>Sequence id</th>\n",
       "      <th>Meter</th>\n",
       "      <th>Date in meter</th>\n",
       "      <th>Connection Status</th>\n",
       "    </tr>\n",
       "  </thead>\n",
       "  <tbody>\n",
       "    <tr>\n",
       "      <th>0</th>\n",
       "      <td>967376587</td>\n",
       "      <td>00100467</td>\n",
       "      <td>10-02-2016 05:47</td>\n",
       "      <td>Connected</td>\n",
       "    </tr>\n",
       "    <tr>\n",
       "      <th>1</th>\n",
       "      <td>967419043</td>\n",
       "      <td>00100467</td>\n",
       "      <td>10-02-2016 06:05</td>\n",
       "      <td>Disconnected</td>\n",
       "    </tr>\n",
       "    <tr>\n",
       "      <th>2</th>\n",
       "      <td>967427759</td>\n",
       "      <td>00100467</td>\n",
       "      <td>10-02-2016 06:08</td>\n",
       "      <td>Connected</td>\n",
       "    </tr>\n",
       "    <tr>\n",
       "      <th>3</th>\n",
       "      <td>967873007</td>\n",
       "      <td>00100467</td>\n",
       "      <td>10-02-2016 08:41</td>\n",
       "      <td>Connected</td>\n",
       "    </tr>\n",
       "    <tr>\n",
       "      <th>4</th>\n",
       "      <td>967873003</td>\n",
       "      <td>00100467</td>\n",
       "      <td>10-02-2016 08:41</td>\n",
       "      <td>Disconnected</td>\n",
       "    </tr>\n",
       "  </tbody>\n",
       "</table>\n",
       "</div>"
      ],
      "text/plain": [
       "   Sequence id     Meter     Date in meter Connection Status\n",
       "0    967376587  00100467  10-02-2016 05:47         Connected\n",
       "1    967419043  00100467  10-02-2016 06:05      Disconnected\n",
       "2    967427759  00100467  10-02-2016 06:08         Connected\n",
       "3    967873007  00100467  10-02-2016 08:41         Connected\n",
       "4    967873003  00100467  10-02-2016 08:41      Disconnected"
      ]
     },
     "execution_count": 1,
     "metadata": {},
     "output_type": "execute_result"
    }
   ],
   "source": [
    "import pandas as pd\n",
    "\n",
    "df = pd.read_csv(\"ConnectionList(1-50Meters).csv\")\n",
    "df.head()"
   ]
  },
  {
   "cell_type": "code",
   "execution_count": 2,
   "metadata": {},
   "outputs": [
    {
     "data": {
      "text/html": [
       "<div>\n",
       "<style scoped>\n",
       "    .dataframe tbody tr th:only-of-type {\n",
       "        vertical-align: middle;\n",
       "    }\n",
       "\n",
       "    .dataframe tbody tr th {\n",
       "        vertical-align: top;\n",
       "    }\n",
       "\n",
       "    .dataframe thead th {\n",
       "        text-align: right;\n",
       "    }\n",
       "</style>\n",
       "<table border=\"1\" class=\"dataframe\">\n",
       "  <thead>\n",
       "    <tr style=\"text-align: right;\">\n",
       "      <th></th>\n",
       "      <th>sequence_id</th>\n",
       "      <th>meter</th>\n",
       "      <th>meterdate</th>\n",
       "      <th>connection_status</th>\n",
       "    </tr>\n",
       "  </thead>\n",
       "  <tbody>\n",
       "    <tr>\n",
       "      <th>66437</th>\n",
       "      <td>1077175151</td>\n",
       "      <td>00105F86</td>\n",
       "      <td>09-03-2016 09:07</td>\n",
       "      <td>Connected</td>\n",
       "    </tr>\n",
       "    <tr>\n",
       "      <th>66438</th>\n",
       "      <td>1077193715</td>\n",
       "      <td>00105F86</td>\n",
       "      <td>09-03-2016 09:12</td>\n",
       "      <td>Disconnected</td>\n",
       "    </tr>\n",
       "    <tr>\n",
       "      <th>66439</th>\n",
       "      <td>1077195219</td>\n",
       "      <td>00105F86</td>\n",
       "      <td>09-03-2016 09:13</td>\n",
       "      <td>Connected</td>\n",
       "    </tr>\n",
       "    <tr>\n",
       "      <th>66440</th>\n",
       "      <td>1077213907</td>\n",
       "      <td>00105F86</td>\n",
       "      <td>09-03-2016 09:18</td>\n",
       "      <td>Disconnected</td>\n",
       "    </tr>\n",
       "    <tr>\n",
       "      <th>66441</th>\n",
       "      <td>1077215403</td>\n",
       "      <td>00105F86</td>\n",
       "      <td>09-03-2016 09:18</td>\n",
       "      <td>Connected</td>\n",
       "    </tr>\n",
       "  </tbody>\n",
       "</table>\n",
       "</div>"
      ],
      "text/plain": [
       "       sequence_id     meter         meterdate connection_status\n",
       "66437   1077175151  00105F86  09-03-2016 09:07         Connected\n",
       "66438   1077193715  00105F86  09-03-2016 09:12      Disconnected\n",
       "66439   1077195219  00105F86  09-03-2016 09:13         Connected\n",
       "66440   1077213907  00105F86  09-03-2016 09:18      Disconnected\n",
       "66441   1077215403  00105F86  09-03-2016 09:18         Connected"
      ]
     },
     "execution_count": 2,
     "metadata": {},
     "output_type": "execute_result"
    }
   ],
   "source": [
    "df = df.rename(columns={\n",
    "    \"Sequence id\": \"sequence_id\",\n",
    "    \"Meter\": \"meter\",\n",
    "    \"Date in meter\": \"meterdate\",\n",
    "    \"Connection Status\": \"connection_status\"})\n",
    "df.tail()"
   ]
  },
  {
   "cell_type": "code",
   "execution_count": 3,
   "metadata": {},
   "outputs": [
    {
     "data": {
      "text/plain": [
       "array(['00100467', '001005CC', '0010074B', '00100923', '0010098B',\n",
       "       '00100C37', '0010100E', '001013CC', '0010147B', '0010202C',\n",
       "       '00102087', '00102105', '00102311', '001029C0', '00102A64',\n",
       "       '00102AEC', '00102B8F', '00102C66', '00102E98', '00102ED4',\n",
       "       '00103031', '00103275', '0010340E', '001034FB', '00103508',\n",
       "       '00103996', '00103E06', '00104700', '00104795', '0010492D',\n",
       "       '00104938', '00104EC8', '00104FB7', '001051F5', '0010528A',\n",
       "       '00105423', '00105434', '00105445', '0010547A', '0010574C',\n",
       "       '001059E8', '00105DF4', '00105E12', '00105E4F', '00105E61',\n",
       "       '00105E7E', '00105E89', '00105EC1', '00105F4E', '00105F86'],\n",
       "      dtype=object)"
      ]
     },
     "execution_count": 3,
     "metadata": {},
     "output_type": "execute_result"
    }
   ],
   "source": [
    "meters = pd.unique(df[\"meter\"])\n",
    "meters"
   ]
  },
  {
   "cell_type": "code",
   "execution_count": 12,
   "metadata": {},
   "outputs": [],
   "source": [
    "import numpy as np\n",
    "\n",
    "finalresult = {}\n",
    "for meter in meters:\n",
    "    m = df.loc[df[\"meter\"] == meter]\n",
    "    finalresult[meter] = np.array(m.loc[m[\"connection_status\"] == \"Connected\"][\"meterdate\"]).tolist()"
   ]
  },
  {
   "cell_type": "code",
   "execution_count": 15,
   "metadata": {},
   "outputs": [
    {
     "data": {
      "text/plain": [
       "['10-02-2016 05:47',\n",
       " '10-02-2016 06:08',\n",
       " '10-02-2016 08:41',\n",
       " '10-02-2016 10:11',\n",
       " '11-02-2016 03:57',\n",
       " '11-02-2016 04:01',\n",
       " '11-02-2016 07:30',\n",
       " '11-02-2016 14:43',\n",
       " '12-02-2016 12:16',\n",
       " '12-02-2016 13:32',\n",
       " '12-02-2016 13:34',\n",
       " '14-02-2016 16:47',\n",
       " '16-02-2016 07:33',\n",
       " '16-02-2016 13:33',\n",
       " '16-02-2016 14:17',\n",
       " '16-02-2016 20:06',\n",
       " '16-02-2016 22:25',\n",
       " '16-02-2016 22:31',\n",
       " '16-02-2016 22:53',\n",
       " '18-02-2016 17:31',\n",
       " '19-02-2016 15:24',\n",
       " '20-02-2016 06:15',\n",
       " '23-02-2016 08:24',\n",
       " '07-03-2016 10:57',\n",
       " '07-03-2016 11:00',\n",
       " '08-03-2016 06:27',\n",
       " '08-03-2016 06:31',\n",
       " '08-03-2016 14:35',\n",
       " '08-03-2016 22:31']"
      ]
     },
     "execution_count": 15,
     "metadata": {},
     "output_type": "execute_result"
    }
   ],
   "source": [
    "finalresult[\"00100467\"]"
   ]
  },
  {
   "cell_type": "code",
   "execution_count": 16,
   "metadata": {},
   "outputs": [
    {
     "data": {
      "text/plain": [
       "['13-02-2016 10:30',\n",
       " '13-02-2016 11:28',\n",
       " '15-02-2016 12:01',\n",
       " '16-02-2016 09:33',\n",
       " '16-02-2016 10:07',\n",
       " '16-02-2016 10:18',\n",
       " '16-02-2016 10:48',\n",
       " '16-02-2016 11:08',\n",
       " '17-02-2016 09:33',\n",
       " '17-02-2016 13:25',\n",
       " '17-02-2016 14:26',\n",
       " '17-02-2016 14:47',\n",
       " '19-02-2016 06:10',\n",
       " '19-02-2016 06:33',\n",
       " '22-02-2016 14:02',\n",
       " '22-02-2016 14:15',\n",
       " '22-02-2016 14:35',\n",
       " '23-02-2016 04:33',\n",
       " '23-02-2016 05:59',\n",
       " '23-02-2016 07:06',\n",
       " '23-02-2016 07:58',\n",
       " '23-02-2016 08:07',\n",
       " '23-02-2016 08:50',\n",
       " '23-02-2016 09:03',\n",
       " '23-02-2016 09:36',\n",
       " '24-02-2016 10:24',\n",
       " '24-02-2016 15:56',\n",
       " '24-02-2016 16:34',\n",
       " '24-02-2016 16:46',\n",
       " '24-02-2016 16:57',\n",
       " '24-02-2016 17:09',\n",
       " '27-02-2016 15:04',\n",
       " '29-02-2016 10:07',\n",
       " '29-02-2016 10:28',\n",
       " '04-03-2016 14:13',\n",
       " '04-03-2016 14:25',\n",
       " '06-03-2016 02:11',\n",
       " '06-03-2016 02:32',\n",
       " '06-03-2016 03:01',\n",
       " '06-03-2016 03:30',\n",
       " '06-03-2016 03:42',\n",
       " '06-03-2016 03:53',\n",
       " '06-03-2016 04:13',\n",
       " '06-03-2016 04:25',\n",
       " '06-03-2016 22:32',\n",
       " '07-03-2016 13:40',\n",
       " '08-03-2016 09:21',\n",
       " '08-03-2016 09:47',\n",
       " '08-03-2016 21:12',\n",
       " '08-03-2016 21:34',\n",
       " '08-03-2016 21:45',\n",
       " '08-03-2016 22:07',\n",
       " '08-03-2016 22:18']"
      ]
     },
     "execution_count": 16,
     "metadata": {},
     "output_type": "execute_result"
    }
   ],
   "source": [
    "finalresult[\"001051F5\"]"
   ]
  },
  {
   "cell_type": "code",
   "execution_count": null,
   "metadata": {},
   "outputs": [],
   "source": []
  }
 ],
 "metadata": {
  "kernelspec": {
   "display_name": "Python 3",
   "language": "python",
   "name": "python3"
  },
  "language_info": {
   "codemirror_mode": {
    "name": "ipython",
    "version": 3
   },
   "file_extension": ".py",
   "mimetype": "text/x-python",
   "name": "python",
   "nbconvert_exporter": "python",
   "pygments_lexer": "ipython3",
   "version": "3.6.5"
  }
 },
 "nbformat": 4,
 "nbformat_minor": 2
}
