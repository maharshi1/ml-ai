{
 "cells": [
  {
   "cell_type": "code",
   "execution_count": 5,
   "metadata": {},
   "outputs": [
    {
     "data": {
      "text/html": [
       "<div>\n",
       "<style scoped>\n",
       "    .dataframe tbody tr th:only-of-type {\n",
       "        vertical-align: middle;\n",
       "    }\n",
       "\n",
       "    .dataframe tbody tr th {\n",
       "        vertical-align: top;\n",
       "    }\n",
       "\n",
       "    .dataframe thead th {\n",
       "        text-align: right;\n",
       "    }\n",
       "</style>\n",
       "<table border=\"1\" class=\"dataframe\">\n",
       "  <thead>\n",
       "    <tr style=\"text-align: right;\">\n",
       "      <th></th>\n",
       "      <th>Sequence id</th>\n",
       "      <th>Meter</th>\n",
       "      <th>Date in meter</th>\n",
       "      <th>Connection Status</th>\n",
       "    </tr>\n",
       "  </thead>\n",
       "  <tbody>\n",
       "    <tr>\n",
       "      <th>0</th>\n",
       "      <td>967376587</td>\n",
       "      <td>00100467</td>\n",
       "      <td>10-02-2016 05:47</td>\n",
       "      <td>Connected</td>\n",
       "    </tr>\n",
       "    <tr>\n",
       "      <th>1</th>\n",
       "      <td>967419043</td>\n",
       "      <td>00100467</td>\n",
       "      <td>10-02-2016 06:05</td>\n",
       "      <td>Disconnected</td>\n",
       "    </tr>\n",
       "    <tr>\n",
       "      <th>2</th>\n",
       "      <td>967427759</td>\n",
       "      <td>00100467</td>\n",
       "      <td>10-02-2016 06:08</td>\n",
       "      <td>Connected</td>\n",
       "    </tr>\n",
       "    <tr>\n",
       "      <th>3</th>\n",
       "      <td>967873007</td>\n",
       "      <td>00100467</td>\n",
       "      <td>10-02-2016 08:41</td>\n",
       "      <td>Connected</td>\n",
       "    </tr>\n",
       "    <tr>\n",
       "      <th>4</th>\n",
       "      <td>967873003</td>\n",
       "      <td>00100467</td>\n",
       "      <td>10-02-2016 08:41</td>\n",
       "      <td>Disconnected</td>\n",
       "    </tr>\n",
       "  </tbody>\n",
       "</table>\n",
       "</div>"
      ],
      "text/plain": [
       "   Sequence id     Meter     Date in meter Connection Status\n",
       "0    967376587  00100467  10-02-2016 05:47         Connected\n",
       "1    967419043  00100467  10-02-2016 06:05      Disconnected\n",
       "2    967427759  00100467  10-02-2016 06:08         Connected\n",
       "3    967873007  00100467  10-02-2016 08:41         Connected\n",
       "4    967873003  00100467  10-02-2016 08:41      Disconnected"
      ]
     },
     "execution_count": 5,
     "metadata": {},
     "output_type": "execute_result"
    }
   ],
   "source": [
    "import pandas as pd\n",
    "\n",
    "df = pd.read_csv(\"ConnectionList(1-50Meters).csv\")\n",
    "df.head()"
   ]
  },
  {
   "cell_type": "code",
   "execution_count": 9,
   "metadata": {},
   "outputs": [
    {
     "data": {
      "text/plain": [
       "(66442, 4)"
      ]
     },
     "execution_count": 9,
     "metadata": {},
     "output_type": "execute_result"
    }
   ],
   "source": [
    "df.shape"
   ]
  },
  {
   "cell_type": "code",
   "execution_count": 11,
   "metadata": {},
   "outputs": [
    {
     "data": {
      "text/plain": [
       "Index(['Sequence id', 'Meter', 'Date in meter', 'Connection Status'], dtype='object')"
      ]
     },
     "execution_count": 11,
     "metadata": {},
     "output_type": "execute_result"
    }
   ],
   "source": [
    "df.columns"
   ]
  },
  {
   "cell_type": "code",
   "execution_count": 21,
   "metadata": {},
   "outputs": [
    {
     "data": {
      "text/html": [
       "<div>\n",
       "<style scoped>\n",
       "    .dataframe tbody tr th:only-of-type {\n",
       "        vertical-align: middle;\n",
       "    }\n",
       "\n",
       "    .dataframe tbody tr th {\n",
       "        vertical-align: top;\n",
       "    }\n",
       "\n",
       "    .dataframe thead th {\n",
       "        text-align: right;\n",
       "    }\n",
       "</style>\n",
       "<table border=\"1\" class=\"dataframe\">\n",
       "  <thead>\n",
       "    <tr style=\"text-align: right;\">\n",
       "      <th></th>\n",
       "      <th>sequence_id</th>\n",
       "      <th>meter</th>\n",
       "      <th>meterdate</th>\n",
       "      <th>connection_status</th>\n",
       "    </tr>\n",
       "  </thead>\n",
       "  <tbody>\n",
       "    <tr>\n",
       "      <th>66437</th>\n",
       "      <td>1077175151</td>\n",
       "      <td>00105F86</td>\n",
       "      <td>09-03-2016 09:07</td>\n",
       "      <td>Connected</td>\n",
       "    </tr>\n",
       "    <tr>\n",
       "      <th>66438</th>\n",
       "      <td>1077193715</td>\n",
       "      <td>00105F86</td>\n",
       "      <td>09-03-2016 09:12</td>\n",
       "      <td>Disconnected</td>\n",
       "    </tr>\n",
       "    <tr>\n",
       "      <th>66439</th>\n",
       "      <td>1077195219</td>\n",
       "      <td>00105F86</td>\n",
       "      <td>09-03-2016 09:13</td>\n",
       "      <td>Connected</td>\n",
       "    </tr>\n",
       "    <tr>\n",
       "      <th>66440</th>\n",
       "      <td>1077213907</td>\n",
       "      <td>00105F86</td>\n",
       "      <td>09-03-2016 09:18</td>\n",
       "      <td>Disconnected</td>\n",
       "    </tr>\n",
       "    <tr>\n",
       "      <th>66441</th>\n",
       "      <td>1077215403</td>\n",
       "      <td>00105F86</td>\n",
       "      <td>09-03-2016 09:18</td>\n",
       "      <td>Connected</td>\n",
       "    </tr>\n",
       "  </tbody>\n",
       "</table>\n",
       "</div>"
      ],
      "text/plain": [
       "       sequence_id     meter         meterdate connection_status\n",
       "66437   1077175151  00105F86  09-03-2016 09:07         Connected\n",
       "66438   1077193715  00105F86  09-03-2016 09:12      Disconnected\n",
       "66439   1077195219  00105F86  09-03-2016 09:13         Connected\n",
       "66440   1077213907  00105F86  09-03-2016 09:18      Disconnected\n",
       "66441   1077215403  00105F86  09-03-2016 09:18         Connected"
      ]
     },
     "execution_count": 21,
     "metadata": {},
     "output_type": "execute_result"
    }
   ],
   "source": [
    "df = df.rename(columns={\n",
    "    \"Sequence id\": \"sequence_id\",\n",
    "    \"Meter\": \"meter\",\n",
    "    \"Date in meter\": \"meterdate\",\n",
    "    \"Connection Status\": \"connection_status\"})\n",
    "df.tail()"
   ]
  },
  {
   "cell_type": "code",
   "execution_count": 26,
   "metadata": {},
   "outputs": [
    {
     "data": {
      "text/plain": [
       "sequence_id           int64\n",
       "meter                object\n",
       "meterdate            object\n",
       "connection_status    object\n",
       "dtype: object"
      ]
     },
     "execution_count": 26,
     "metadata": {},
     "output_type": "execute_result"
    }
   ],
   "source": [
    "df.dtypes"
   ]
  },
  {
   "cell_type": "code",
   "execution_count": 32,
   "metadata": {},
   "outputs": [
    {
     "data": {
      "text/html": [
       "<div>\n",
       "<style scoped>\n",
       "    .dataframe tbody tr th:only-of-type {\n",
       "        vertical-align: middle;\n",
       "    }\n",
       "\n",
       "    .dataframe tbody tr th {\n",
       "        vertical-align: top;\n",
       "    }\n",
       "\n",
       "    .dataframe thead th {\n",
       "        text-align: right;\n",
       "    }\n",
       "</style>\n",
       "<table border=\"1\" class=\"dataframe\">\n",
       "  <thead>\n",
       "    <tr style=\"text-align: right;\">\n",
       "      <th></th>\n",
       "      <th>sequence_id</th>\n",
       "      <th>meter</th>\n",
       "      <th>meterdate</th>\n",
       "      <th>connection_status</th>\n",
       "    </tr>\n",
       "  </thead>\n",
       "  <tbody>\n",
       "    <tr>\n",
       "      <th>66437</th>\n",
       "      <td>1077175151</td>\n",
       "      <td>00105F86</td>\n",
       "      <td>09-03-2016 09:07</td>\n",
       "      <td>Connected</td>\n",
       "    </tr>\n",
       "  </tbody>\n",
       "</table>\n",
       "</div>"
      ],
      "text/plain": [
       "       sequence_id     meter         meterdate connection_status\n",
       "66437   1077175151  00105F86  09-03-2016 09:07         Connected"
      ]
     },
     "execution_count": 32,
     "metadata": {},
     "output_type": "execute_result"
    }
   ],
   "source": [
    "df.loc[df[\"sequence_id\"] == 1077175151]"
   ]
  },
  {
   "cell_type": "code",
   "execution_count": 39,
   "metadata": {},
   "outputs": [
    {
     "data": {
      "text/plain": [
       "array(['00100467', '001005CC', '0010074B', '00100923', '0010098B',\n",
       "       '00100C37', '0010100E', '001013CC', '0010147B', '0010202C',\n",
       "       '00102087', '00102105', '00102311', '001029C0', '00102A64',\n",
       "       '00102AEC', '00102B8F', '00102C66', '00102E98', '00102ED4',\n",
       "       '00103031', '00103275', '0010340E', '001034FB', '00103508',\n",
       "       '00103996', '00103E06', '00104700', '00104795', '0010492D',\n",
       "       '00104938', '00104EC8', '00104FB7', '001051F5', '0010528A',\n",
       "       '00105423', '00105434', '00105445', '0010547A', '0010574C',\n",
       "       '001059E8', '00105DF4', '00105E12', '00105E4F', '00105E61',\n",
       "       '00105E7E', '00105E89', '00105EC1', '00105F4E', '00105F86'],\n",
       "      dtype=object)"
      ]
     },
     "execution_count": 39,
     "metadata": {},
     "output_type": "execute_result"
    }
   ],
   "source": [
    "meters = pd.unique(df[\"meter\"])\n",
    "meters"
   ]
  },
  {
   "cell_type": "code",
   "execution_count": 61,
   "metadata": {},
   "outputs": [
    {
     "data": {
      "text/html": [
       "<div>\n",
       "<style scoped>\n",
       "    .dataframe tbody tr th:only-of-type {\n",
       "        vertical-align: middle;\n",
       "    }\n",
       "\n",
       "    .dataframe tbody tr th {\n",
       "        vertical-align: top;\n",
       "    }\n",
       "\n",
       "    .dataframe thead th {\n",
       "        text-align: right;\n",
       "    }\n",
       "</style>\n",
       "<table border=\"1\" class=\"dataframe\">\n",
       "  <thead>\n",
       "    <tr style=\"text-align: right;\">\n",
       "      <th></th>\n",
       "      <th>sequence_id</th>\n",
       "      <th>meter</th>\n",
       "      <th>meterdate</th>\n",
       "      <th>connection_status</th>\n",
       "    </tr>\n",
       "  </thead>\n",
       "  <tbody>\n",
       "    <tr>\n",
       "      <th>0</th>\n",
       "      <td>967376587</td>\n",
       "      <td>00100467</td>\n",
       "      <td>10-02-2016 05:47</td>\n",
       "      <td>Connected</td>\n",
       "    </tr>\n",
       "    <tr>\n",
       "      <th>1</th>\n",
       "      <td>967419043</td>\n",
       "      <td>00100467</td>\n",
       "      <td>10-02-2016 06:05</td>\n",
       "      <td>Disconnected</td>\n",
       "    </tr>\n",
       "    <tr>\n",
       "      <th>2</th>\n",
       "      <td>967427759</td>\n",
       "      <td>00100467</td>\n",
       "      <td>10-02-2016 06:08</td>\n",
       "      <td>Connected</td>\n",
       "    </tr>\n",
       "    <tr>\n",
       "      <th>3</th>\n",
       "      <td>967873007</td>\n",
       "      <td>00100467</td>\n",
       "      <td>10-02-2016 08:41</td>\n",
       "      <td>Connected</td>\n",
       "    </tr>\n",
       "    <tr>\n",
       "      <th>4</th>\n",
       "      <td>967873003</td>\n",
       "      <td>00100467</td>\n",
       "      <td>10-02-2016 08:41</td>\n",
       "      <td>Disconnected</td>\n",
       "    </tr>\n",
       "  </tbody>\n",
       "</table>\n",
       "</div>"
      ],
      "text/plain": [
       "   sequence_id     meter         meterdate connection_status\n",
       "0    967376587  00100467  10-02-2016 05:47         Connected\n",
       "1    967419043  00100467  10-02-2016 06:05      Disconnected\n",
       "2    967427759  00100467  10-02-2016 06:08         Connected\n",
       "3    967873007  00100467  10-02-2016 08:41         Connected\n",
       "4    967873003  00100467  10-02-2016 08:41      Disconnected"
      ]
     },
     "execution_count": 61,
     "metadata": {},
     "output_type": "execute_result"
    }
   ],
   "source": [
    "meter001 = df.loc[df[\"meter\"] == meters[0]]\n",
    "meter001.head()  #.connection_status == \"Connected\""
   ]
  },
  {
   "cell_type": "code",
   "execution_count": 81,
   "metadata": {},
   "outputs": [],
   "source": [
    "import numpy as np\n",
    "mdt = {meter001.meter.loc[0] :np.array(meter001.loc[meter001[\"connection_status\"] == \"Connected\"][\"meterdate\"]).tolist()}"
   ]
  },
  {
   "cell_type": "code",
   "execution_count": 115,
   "metadata": {},
   "outputs": [],
   "source": [
    "finalresult = {}\n",
    "for meter in meters:\n",
    "    m = df.loc[df[\"meter\"] == meter]\n",
    "    finalresult[meter] = np.array(m.loc[m[\"connection_status\"] == \"Connected\"][\"meterdate\"]).tolist()\n"
   ]
  },
  {
   "cell_type": "code",
   "execution_count": 116,
   "metadata": {},
   "outputs": [
    {
     "data": {
      "text/plain": [
       "53"
      ]
     },
     "execution_count": 116,
     "metadata": {},
     "output_type": "execute_result"
    }
   ],
   "source": [
    "len(finalresult[\"001051F5\"])"
   ]
  },
  {
   "cell_type": "code",
   "execution_count": 129,
   "metadata": {},
   "outputs": [
    {
     "data": {
      "text/plain": [
       "53"
      ]
     },
     "execution_count": 129,
     "metadata": {},
     "output_type": "execute_result"
    }
   ],
   "source": [
    "d1 = df.loc[df[\"meter\"] == \"001051F5\"]\n",
    "len(d1.loc[d1[\"connection_status\"] == \"Connected\"])"
   ]
  }
 ],
 "metadata": {
  "kernelspec": {
   "display_name": "Python 3",
   "language": "python",
   "name": "python3"
  },
  "language_info": {
   "codemirror_mode": {
    "name": "ipython",
    "version": 3
   },
   "file_extension": ".py",
   "mimetype": "text/x-python",
   "name": "python",
   "nbconvert_exporter": "python",
   "pygments_lexer": "ipython3",
   "version": "3.6.5"
  }
 },
 "nbformat": 4,
 "nbformat_minor": 2
}
